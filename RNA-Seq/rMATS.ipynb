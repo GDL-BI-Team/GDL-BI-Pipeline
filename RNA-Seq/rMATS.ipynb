{
 "cells": [
  {
   "cell_type": "code",
   "execution_count": 1,
   "id": "b7c3f660-189f-4033-9e15-db8db5fa9c03",
   "metadata": {},
   "outputs": [],
   "source": [
    "# +-----------------------------------------------------------------------------+\n",
    "# | rMATS Graph, Written by Python\n",
    "# | Optimized for GDL r400 rMATS script\n",
    "# | maintainer: jinhokim.07@cau.ac.kr\n",
    "# | Last Update: 24.04.19\n",
    "# +-----------------------------------------------------------------------------+\n",
    "\n",
    "# +---System Library Import-----------------------------------------------------+\n",
    "import os, sys\n",
    "# +---Basic Library Import------------------------------------------------------+\n",
    "import numpy as np\n",
    "import pandas as pd\n",
    "# +---Graph Library Import------------------------------------------------------+\n",
    "import matplotlib.pyplot as plt\n",
    "import seaborn as sns"
   ]
  },
  {
   "cell_type": "code",
   "execution_count": 163,
   "id": "ae6e70b3-4dec-4165-b893-276e86279a0f",
   "metadata": {},
   "outputs": [],
   "source": [
    "SetName = \"CTLvsTRE1\"\n",
    "dir_route = \"./400_AS/rMATS/TRE1/rmats_result/\"\n",
    "output_dir_route = \"./410_AS_Plots/rMATS\"\n",
    "\n",
    "AS = [\"SE\", \"A3SS\", \"A5SS\", \"RI\", \"MXE\"]\n",
    "pvalue_thres = 0.05\n",
    "\n",
    "# Reference\n",
    "gene_function_route = \"./GRCz11_108_Ensembl/Gene_Function.bed\""
   ]
  },
  {
   "cell_type": "code",
   "execution_count": 164,
   "id": "8973e40a-3523-4a6a-8e41-e3e88c276aad",
   "metadata": {},
   "outputs": [
    {
     "data": {
      "text/html": [
       "<div>\n",
       "<style scoped>\n",
       "    .dataframe tbody tr th:only-of-type {\n",
       "        vertical-align: middle;\n",
       "    }\n",
       "\n",
       "    .dataframe tbody tr th {\n",
       "        vertical-align: top;\n",
       "    }\n",
       "\n",
       "    .dataframe thead th {\n",
       "        text-align: right;\n",
       "    }\n",
       "</style>\n",
       "<table border=\"1\" class=\"dataframe\">\n",
       "  <thead>\n",
       "    <tr style=\"text-align: right;\">\n",
       "      <th></th>\n",
       "      <th>GeneIDs</th>\n",
       "      <th>GeneSym</th>\n",
       "      <th>Function</th>\n",
       "    </tr>\n",
       "  </thead>\n",
       "  <tbody>\n",
       "    <tr>\n",
       "      <th>0</th>\n",
       "      <td>ENSDARG00000009657</td>\n",
       "      <td>fgfr1op2</td>\n",
       "      <td>protein_coding</td>\n",
       "    </tr>\n",
       "    <tr>\n",
       "      <th>1</th>\n",
       "      <td>ENSDARG00000096156</td>\n",
       "      <td>si:dkey-21h14.12</td>\n",
       "      <td>protein_coding</td>\n",
       "    </tr>\n",
       "    <tr>\n",
       "      <th>2</th>\n",
       "      <td>ENSDARG00000076160</td>\n",
       "      <td>si:dkey-285e18.2</td>\n",
       "      <td>protein_coding</td>\n",
       "    </tr>\n",
       "    <tr>\n",
       "      <th>3</th>\n",
       "      <td>ENSDARG00000117163</td>\n",
       "      <td>znf1114</td>\n",
       "      <td>protein_coding</td>\n",
       "    </tr>\n",
       "    <tr>\n",
       "      <th>4</th>\n",
       "      <td>ENSDARG00000096187</td>\n",
       "      <td>si:dkey-21h14.10</td>\n",
       "      <td>protein_coding</td>\n",
       "    </tr>\n",
       "  </tbody>\n",
       "</table>\n",
       "</div>"
      ],
      "text/plain": [
       "              GeneIDs           GeneSym        Function\n",
       "0  ENSDARG00000009657          fgfr1op2  protein_coding\n",
       "1  ENSDARG00000096156  si:dkey-21h14.12  protein_coding\n",
       "2  ENSDARG00000076160  si:dkey-285e18.2  protein_coding\n",
       "3  ENSDARG00000117163           znf1114  protein_coding\n",
       "4  ENSDARG00000096187  si:dkey-21h14.10  protein_coding"
      ]
     },
     "execution_count": 164,
     "metadata": {},
     "output_type": "execute_result"
    }
   ],
   "source": [
    "REF = pd.read_csv(gene_function_route, sep = \"\\t\", header = None)\n",
    "REF.columns = [\"GeneIDs\", \"GeneSym\", \"Function\"]\n",
    "REF_PC = REF.loc[REF[\"Function\"] == \"protein_coding\"].reset_index(drop = True)\n",
    "REF_PC.head()"
   ]
  },
  {
   "cell_type": "code",
   "execution_count": 165,
   "id": "340180b9-de81-45b8-920e-07101b73e4d1",
   "metadata": {},
   "outputs": [
    {
     "name": "stdout",
     "output_type": "stream",
     "text": [
      "SE 7483 1190\n",
      "A3SS 815 185\n",
      "A5SS 469 96\n",
      "RI 950 192\n",
      "MXE 483 95\n"
     ]
    }
   ],
   "source": [
    "AS_DICT = {}\n",
    "AS_Sig_DICT = {}\n",
    "for as_type in AS:\n",
    "    df = pd.read_csv(os.path.join(dir_route, as_type+\".MATS.JCEC.txt\"), sep = \"\\t\")\n",
    "    df_pc = df.loc[df[\"GeneID\"].apply(lambda x: x in REF_PC[\"GeneIDs\"].to_numpy())].reset_index(drop=True)\n",
    "    AS_DICT[as_type] = df_pc\n",
    "    \n",
    "    df_pc_sig = df_pc.loc[df_pc[\"PValue\"] < pvalue_thres].reset_index(drop=True).copy()\n",
    "    AS_Sig_DICT[as_type] = df_pc_sig\n",
    "    \n",
    "    print(as_type, len(df_pc), len(df_pc_sig))"
   ]
  },
  {
   "cell_type": "code",
   "execution_count": 166,
   "id": "194e3750-e0d5-47f6-b418-e443df66d7f2",
   "metadata": {},
   "outputs": [
    {
     "data": {
      "image/png": "[encoded data removed]",
      "text/plain": [
       "<Figure size 360x360 with 1 Axes>"
      ]
     },
     "metadata": {
      "needs_background": "light"
     },
     "output_type": "display_data"
    }
   ],
   "source": [
    "# Plot 1. # of Signigicant Events in Protein-coding genes\n",
    "\n",
    "plt.figure(figsize=(5,5))\n",
    "\n",
    "X = np.arange(len(AS))\n",
    "Y = []\n",
    "for as_type in AS:\n",
    "    Y.append(len(AS_Sig_DICT[as_type]))\n",
    "\n",
    "plt.bar(X, Y)\n",
    "plt.xticks(X, AS)\n",
    "  \n",
    "plt.ylabel(\"# of Significant Events\")\n",
    "plt.title(\"Events between {}\\nProtein-coding Genes w/ Pvalue {}\".format(SetName,pvalue_thres))\n",
    "plt.savefig(os.path.join(output_dir_route,\"{}_{}.png\".format(SetName, \"PC_Sig_Events\")))\n",
    "plt.show()"
   ]
  },
  {
   "cell_type": "code",
   "execution_count": 167,
   "id": "9a5e6397-8964-4273-b0ee-ca95e7af6104",
   "metadata": {},
   "outputs": [
    {
     "data": {
      "image/png": "[encoded data removed]",
      "text/plain": [
       "<Figure size 360x360 with 1 Axes>"
      ]
     },
     "metadata": {
      "needs_background": "light"
     },
     "output_type": "display_data"
    }
   ],
   "source": [
    "# Plot 2. # of Signigicant Genes\n",
    "\n",
    "plt.figure(figsize=(5,5))\n",
    "\n",
    "X = np.arange(len(AS))\n",
    "Y = []\n",
    "for as_type in AS:\n",
    "    y = len(AS_Sig_DICT[as_type][\"GeneID\"].drop_duplicates())\n",
    "    Y.append(y)\n",
    "\n",
    "plt.bar(X, Y)\n",
    "plt.xticks(X, AS)\n",
    "  \n",
    "plt.ylabel(\"# of Significant Genes\")\n",
    "plt.title(\"# of Genes between {}\\nProtein-coding Genes w/ Pvalue {}\".format(SetName,pvalue_thres))\n",
    "plt.savefig(os.path.join(output_dir_route,\"{}_{}.png\".format(SetName, \"PC_Sig_Genes\")))\n",
    "plt.show()"
   ]
  },
  {
   "cell_type": "code",
   "execution_count": 168,
   "id": "ee29cfed-439a-42dd-b881-c041a6d94c4e",
   "metadata": {},
   "outputs": [
    {
     "data": {
      "image/png": "[encoded data removed]",
      "text/plain": [
       "<Figure size 360x360 with 1 Axes>"
      ]
     },
     "metadata": {
      "needs_background": "light"
     },
     "output_type": "display_data"
    }
   ],
   "source": [
    "# Plot 3. # of Signigicant Genes, CTL/TRE\n",
    "\n",
    "plt.figure(figsize=(5,5))\n",
    "\n",
    "X = np.arange(len(AS))\n",
    "Y_CTL = []\n",
    "Y_EXP = []\n",
    "for as_type in AS:  \n",
    "    if (as_type != \"RI\"):\n",
    "        tmp_ = AS_Sig_DICT[as_type]\n",
    "        tmp_ctl_ = tmp_.loc[tmp_[\"IncLevelDifference\"] < 0] # CTL Events\n",
    "        Y_CTL.append(len(tmp_ctl_))\n",
    "        tmp_exp_ = tmp_.loc[tmp_[\"IncLevelDifference\"] > 0] # EXP Events\n",
    "        Y_EXP.append(len(tmp_exp_))\n",
    "    else:\n",
    "        tmp_ = AS_Sig_DICT[as_type]\n",
    "        tmp_ctl_ = tmp_.loc[tmp_[\"IncLevelDifference\"] > 0] # CTL Events\n",
    "        Y_CTL.append(len(tmp_ctl_))\n",
    "        tmp_exp_ = tmp_.loc[tmp_[\"IncLevelDifference\"] < 0] # EXP Events\n",
    "        Y_EXP.append(len(tmp_exp_))\n",
    "\n",
    "plt.bar(X-0.2, Y_CTL, width=0.4, label = \"CTL\", color = \"tab:blue\")\n",
    "plt.bar(X+0.2, Y_EXP, width=0.4, label = \"EXP\", color = \"tab:red\")\n",
    "plt.xticks(X, AS)\n",
    "  \n",
    "plt.ylabel(\"# of Significant Genes\")\n",
    "plt.title(\"# of Genes between {}\\nProtein-coding Genes w/ Pvalue {}\".format(SetName,pvalue_thres))\n",
    "plt.legend()\n",
    "plt.savefig(os.path.join(output_dir_route,\"{}_{}.png\".format(SetName, \"PC_Sig_Events_Compare\")))\n",
    "plt.show()"
   ]
  },
  {
   "cell_type": "code",
   "execution_count": 169,
   "id": "2f25e0a1-81ec-46bb-989f-0d5aeae63016",
   "metadata": {},
   "outputs": [
    {
     "data": {
      "image/png": "[encoded data removed]",
      "text/plain": [
       "<Figure size 360x360 with 1 Axes>"
      ]
     },
     "metadata": {
      "needs_background": "light"
     },
     "output_type": "display_data"
    }
   ],
   "source": [
    "# Plot 3. # of Signigicant Genes, CTL/TRE\n",
    "\n",
    "plt.figure(figsize=(5,5))\n",
    "\n",
    "X = np.arange(len(AS))\n",
    "Y_CTL = []\n",
    "Y_EXP = []\n",
    "for as_type in AS:  \n",
    "    if (as_type != \"RI\"):\n",
    "        tmp_ = AS_Sig_DICT[as_type]\n",
    "        tmp_ctl_ = tmp_.loc[tmp_[\"IncLevelDifference\"] < 0] # CTL Events\n",
    "        Y_CTL.append(len(tmp_ctl_))\n",
    "        tmp_exp_ = tmp_.loc[tmp_[\"IncLevelDifference\"] > 0] # EXP Events\n",
    "        Y_EXP.append(len(tmp_exp_))\n",
    "    else:\n",
    "        tmp_ = AS_Sig_DICT[as_type]\n",
    "        tmp_ctl_ = tmp_.loc[tmp_[\"IncLevelDifference\"] > 0] # CTL Events\n",
    "        Y_CTL.append(len(tmp_ctl_))\n",
    "        tmp_exp_ = tmp_.loc[tmp_[\"IncLevelDifference\"] < 0] # EXP Events\n",
    "        Y_EXP.append(len(tmp_exp_))\n",
    "\n",
    "plt.bar(X-0.2, Y_CTL, width=0.4, label = \"CTL\", color = \"tab:blue\")\n",
    "plt.bar(X+0.2, Y_EXP, width=0.4, label = \"TRE\", color = \"tab:red\")\n",
    "plt.xticks(X, AS)\n",
    "  \n",
    "plt.ylabel(\"# of Significant Genes\")\n",
    "plt.title(\"# of Genes between {}\\nProtein-coding Genes w/ Pvalue {}\".format(SetName,pvalue_thres))\n",
    "plt.legend()\n",
    "plt.savefig(os.path.join(output_dir_route,\"{}_{}.png\".format(SetName, \"PC_Sig_Genes_Compare\")))\n",
    "plt.show()"
   ]
  },
  {
   "cell_type": "code",
   "execution_count": null,
   "id": "5fdca508-63f6-4d91-9bf6-e219ae9cbab2",
   "metadata": {},
   "outputs": [],
   "source": []
  },
  {
   "cell_type": "code",
   "execution_count": null,
   "id": "a97e1069-fc59-4f46-a139-ee70857c904a",
   "metadata": {},
   "outputs": [],
   "source": []
  },
  {
   "cell_type": "code",
   "execution_count": null,
   "id": "d09b8aae-47ec-4f40-b24d-d3457b32da48",
   "metadata": {},
   "outputs": [],
   "source": []
  },
  {
   "cell_type": "code",
   "execution_count": null,
   "id": "ef527e7a-01ac-426f-93d0-93fb50e4fe86",
   "metadata": {},
   "outputs": [],
   "source": []
  },
  {
   "cell_type": "code",
   "execution_count": null,
   "id": "baf6d520-9a45-4791-a5ea-20e03383a12d",
   "metadata": {},
   "outputs": [],
   "source": []
  }
 ],
 "metadata": {
  "kernelspec": {
   "display_name": "Python 3 (ipykernel)",
   "language": "python",
   "name": "python3"
  },
  "language_info": {
   "codemirror_mode": {
    "name": "ipython",
    "version": 3
   },
   "file_extension": ".py",
   "mimetype": "text/x-python",
   "name": "python",
   "nbconvert_exporter": "python",
   "pygments_lexer": "ipython3",
   "version": "3.8.12"
  }
 },
 "nbformat": 4,
 "nbformat_minor": 5
}
