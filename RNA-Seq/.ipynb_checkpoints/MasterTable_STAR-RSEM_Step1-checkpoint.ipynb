{
 "cells": [
  {
   "cell_type": "code",
   "execution_count": 1,
   "id": "419be51a-083c-4406-9bc9-827f7cab06ca",
   "metadata": {},
   "outputs": [
    {
     "name": "stderr",
     "output_type": "stream",
     "text": [
      "Warning message:\n",
      "“package ‘devtools’ was built under R version 4.1.3”\n",
      "Warning message:\n",
      "“package ‘usethis’ was built under R version 4.1.3”\n",
      "Warning message:\n",
      "“package ‘openxlsx’ was built under R version 4.1.1”\n"
     ]
    }
   ],
   "source": [
    "# +-----------------------------------------------------------------------------+\n",
    "# | MasterTable Script Step 1, Written by R\n",
    "# | Statistical Test : EdgeR and DESeq2\n",
    "# | FPKM : Normalized by DESeq2\n",
    "# | maintainer: jinhokim.07@cau.ac.kr\n",
    "# | Last Update: 24.02.16\n",
    "# +-----------------------------------------------------------------------------+\n",
    "\n",
    "options(java.parameters = \"-Xmx1024m\")\n",
    "setwd(\"./\") # Working Directory Setting\n",
    "\n",
    "suppressPackageStartupMessages({\n",
    "    require(\"BiocManager\")\n",
    "    require(\"ballgown\")\n",
    "    require(\"DESeq2\")\n",
    "    require(\"edgeR\")\n",
    "    # require(\"limma\")\n",
    "    # require(\"EBSeq\")\n",
    "    require(\"GenomicFeatures\")\n",
    "    require(\"RSkittleBrewer\")\n",
    "    require(\"genefilter\")\n",
    "    require(\"dplyr\")\n",
    "    require(\"devtools\")\n",
    "    require(\"openxlsx\")\n",
    "    require(\"tibble\")\n",
    "})\n",
    "\n",
    "# library Load\n",
    "library(BiocManager, quietly=T)\n",
    "\n",
    "# DE Library\n",
    "library(DESeq2, quietly=T)\n",
    "library(edgeR, quietly=T)\n",
    "\n",
    "# Reference Library\n",
    "library(GenomicFeatures, quietly=T)\n",
    "\n",
    "# Misc\n",
    "##devtools::install_github('alyssafrazee/RSkittleBrewer')\n",
    "library(RSkittleBrewer, quietly=T)\n",
    "library(genefilter, quietly=T)\n",
    "library(dplyr, quietly=T)\n",
    "library(devtools, quietly=T)\n",
    "library(openxlsx, quietly=T)\n",
    "library(tibble)"
   ]
  },
  {
   "cell_type": "code",
   "execution_count": 2,
   "id": "512c40aa-5adb-4bdc-acbf-aae56f3c5192",
   "metadata": {},
   "outputs": [
    {
     "data": {
      "text/plain": [
       "[1] ‘3.36.0’"
      ]
     },
     "metadata": {},
     "output_type": "display_data"
    },
    {
     "data": {
      "text/plain": [
       "[1] ‘1.34.0’"
      ]
     },
     "metadata": {},
     "output_type": "display_data"
    }
   ],
   "source": [
    "packageVersion(\"edgeR\")\n",
    "packageVersion(\"DESeq2\")"
   ]
  },
  {
   "cell_type": "code",
   "execution_count": 1,
   "id": "ae5dc43d-0258-4d96-a16e-b88bed8f2b22",
   "metadata": {},
   "outputs": [],
   "source": [
    "# User Input and parameter\n",
    "input.dir.route <- \"./210_Count_Interim/STAR-RSEM_Smug1_Retina3M//\"\n",
    "output.dir.route <- \"./300_MasterTable/\"\n",
    "\n",
    "ref.route <- \"./GRCm38_p13_101_Ensembl//Mus_musculus.GRCm38.101.gtf\"\n",
    "ref.spieces <- \"Mus musculus\" # or \"Homo sapiens\" for txdb Datbase"
   ]
  },
  {
   "cell_type": "code",
   "execution_count": 4,
   "id": "fc61545b-85ad-4a2a-a00c-bec7a57db123",
   "metadata": {},
   "outputs": [],
   "source": [
    "dir.create(file.path(output.dir.route), showWarnings = FALSE)"
   ]
  },
  {
   "cell_type": "code",
   "execution_count": 5,
   "id": "0db01097-ddc0-4a63-8da4-c0d28c717b38",
   "metadata": {},
   "outputs": [
    {
     "name": "stderr",
     "output_type": "stream",
     "text": [
      "sqllite already exist.\n",
      "\n"
     ]
    }
   ],
   "source": [
    "# Reference DataBase build and load\n",
    "## Reference Processing Part\n",
    "##-- If you have sqlite files, this process will be kept\n",
    "if (file.exists(gsub(\".gtf\",\".sqlite\",ref.route))==F){\n",
    "    \n",
    "    ##-- Genomic Featrue, `makeTxDbFromGFF` function\n",
    "    ##-- This function convert GTF file to SQLite format\n",
    "    txdb <- makeTxDbFromGFF(file=ref.route, format=\"auto\", organism=ref.spieces)\n",
    "    saveDb(txdb, file=gsub(\".gtf\",\".sqlite\", ref.route))\n",
    "    \n",
    "} else {\n",
    "    message(\"sqllite already exist.\")\n",
    "}\n",
    "\n",
    "## DataBase Load\n",
    "txdb <- loadDb(gsub(\".gtf\",\".sqlite\",ref.route))\n",
    "\n",
    "## matched Gene and Transcript by exon for DESeq2\n",
    "eByts.trans <- exonsBy(txdb, by=c(\"tx\"), use.names=TRUE)\n",
    "eByts.trans <- eByts.trans[order(names(eByts.trans))]\n",
    "\n",
    "eByts.genes <- exonsBy(txdb, by=c(\"gene\"))\n",
    "eByts.genes <- eByts.genes[order(names(eByts.genes))]\n",
    "\n",
    "## Annotation Maker\n",
    "annot <- data.frame(ballgown::gffReadGR(ref.route))\n",
    "annot_trans <- dplyr::filter(annot, type == \"transcript\")\n",
    "annot_genes <- dplyr::filter(annot, type == \"gene\")"
   ]
  },
  {
   "cell_type": "code",
   "execution_count": 6,
   "id": "fab32fc7-948a-4d25-8d73-a36225522f14",
   "metadata": {},
   "outputs": [
    {
     "name": "stdout",
     "output_type": "stream",
     "text": [
      "[1] \"Transcript Level\"\n",
      "[1] \"X\"                                                                                 \n",
      "[2] \"X.hdd2.220104_Smug1_RNA.Retina_3M.200_Count.STAR.RSEM.WT_S1.isoforms.results\"      \n",
      "[3] \"X.hdd2.220104_Smug1_RNA.Retina_3M.200_Count.STAR.RSEM.WT_S2.isoforms.results\"      \n",
      "[4] \"X.hdd2.220104_Smug1_RNA.Retina_3M.200_Count.STAR.RSEM.Smug1_KO_S1.isoforms.results\"\n",
      "[5] \"X.hdd2.220104_Smug1_RNA.Retina_3M.200_Count.STAR.RSEM.Smug1_KO_S2.isoforms.results\"\n",
      "[1] \"Gene Level\"\n",
      "[1] \"X\"                                                                              \n",
      "[2] \"X.hdd2.220104_Smug1_RNA.Retina_3M.200_Count.STAR.RSEM.WT_S1.genes.results\"      \n",
      "[3] \"X.hdd2.220104_Smug1_RNA.Retina_3M.200_Count.STAR.RSEM.WT_S2.genes.results\"      \n",
      "[4] \"X.hdd2.220104_Smug1_RNA.Retina_3M.200_Count.STAR.RSEM.Smug1_KO_S1.genes.results\"\n",
      "[5] \"X.hdd2.220104_Smug1_RNA.Retina_3M.200_Count.STAR.RSEM.Smug1_KO_S2.genes.results\"\n"
     ]
    }
   ],
   "source": [
    "full.counts.data <- read.csv(paste0(input.dir.route,\"TRANS.counts.matrix\"), sep = \"\\t\")\n",
    "print(\"Transcript Level\")\n",
    "print(colnames(full.counts.data))\n",
    "\n",
    "full.counts.data.g <- read.csv(paste0(input.dir.route,\"GENES.counts.matrix\"), sep = \"\\t\")\n",
    "print(\"Gene Level\")\n",
    "print(colnames(full.counts.data.g))"
   ]
  },
  {
   "cell_type": "code",
   "execution_count": 7,
   "id": "06c65ad2-6961-4827-baf6-eac319af565d",
   "metadata": {},
   "outputs": [
    {
     "name": "stdout",
     "output_type": "stream",
     "text": [
      "[1] \"Transcript Lvl, Re-defined column names\"\n",
      "[1] \"TranscriptIds\" \"WT_S1\"         \"WT_S2\"         \"Smug1_KO_S1\"  \n",
      "[5] \"Smug1_KO_S2\"  \n",
      "[1] \"Gene Lvl, Re-defined column names\"\n",
      "[1] \"GeneIds\"     \"WT_S1\"       \"WT_S2\"       \"Smug1_KO_S1\" \"Smug1_KO_S2\"\n"
     ]
    }
   ],
   "source": [
    "# User Input and parameter 2 ###################################################\n",
    "\n",
    "## Col (or sample names) are defined, in this section\n",
    "loaded.colnames <- c(\"WT_S1\",\"WT_S2\",\"Smug1_KO_S1\",\"Smug1_KO_S2\")\n",
    "\n",
    "# User Input and parameter 2 ###################################################\n",
    "\n",
    "## Processing Part\n",
    "\n",
    "colnames.defined <- c(\"TranscriptIds\", loaded.colnames)\n",
    "colnames(full.counts.data) <- colnames.defined\n",
    "print(\"Transcript Lvl, Re-defined column names\")\n",
    "print(colnames(full.counts.data))\n",
    "\n",
    "colnames.defined <- c(\"GeneIds\", loaded.colnames)\n",
    "colnames(full.counts.data.g) <- colnames.defined\n",
    "print(\"Gene Lvl, Re-defined column names\")\n",
    "print(colnames(full.counts.data.g))"
   ]
  },
  {
   "cell_type": "code",
   "execution_count": 8,
   "id": "d0f4298a-ff4e-4e4d-83ac-f30ec25cc903",
   "metadata": {},
   "outputs": [
    {
     "data": {
      "text/html": [
       "<table class=\"dataframe\">\n",
       "<caption>A data.frame: 4 × 1</caption>\n",
       "<thead>\n",
       "\t<tr><th></th><th scope=col>group</th></tr>\n",
       "\t<tr><th></th><th scope=col>&lt;fct&gt;</th></tr>\n",
       "</thead>\n",
       "<tbody>\n",
       "\t<tr><th scope=row>WT_S1</th><td>WT</td></tr>\n",
       "\t<tr><th scope=row>WT_S2</th><td>WT</td></tr>\n",
       "\t<tr><th scope=row>Smug1_KO_S1</th><td>KO</td></tr>\n",
       "\t<tr><th scope=row>Smug1_KO_S2</th><td>KO</td></tr>\n",
       "</tbody>\n",
       "</table>\n"
      ],
      "text/latex": [
       "A data.frame: 4 × 1\n",
       "\\begin{tabular}{r|l}\n",
       "  & group\\\\\n",
       "  & <fct>\\\\\n",
       "\\hline\n",
       "\tWT\\_S1 & WT\\\\\n",
       "\tWT\\_S2 & WT\\\\\n",
       "\tSmug1\\_KO\\_S1 & KO\\\\\n",
       "\tSmug1\\_KO\\_S2 & KO\\\\\n",
       "\\end{tabular}\n"
      ],
      "text/markdown": [
       "\n",
       "A data.frame: 4 × 1\n",
       "\n",
       "| <!--/--> | group &lt;fct&gt; |\n",
       "|---|---|\n",
       "| WT_S1 | WT |\n",
       "| WT_S2 | WT |\n",
       "| Smug1_KO_S1 | KO |\n",
       "| Smug1_KO_S2 | KO |\n",
       "\n"
      ],
      "text/plain": [
       "            group\n",
       "WT_S1       WT   \n",
       "WT_S2       WT   \n",
       "Smug1_KO_S1 KO   \n",
       "Smug1_KO_S2 KO   "
      ]
     },
     "metadata": {},
     "output_type": "display_data"
    },
    {
     "name": "stdout",
     "output_type": "stream",
     "text": [
      "[1] \"Transcript Lvl, Final Count Table\"\n",
      "                    WT_S1  WT_S2 Smug1_KO_S1 Smug1_KO_S2\n",
      "ENSMUST00000000001 683.00 668.00     1991.00     1734.00\n",
      "ENSMUST00000000003   0.00   0.00        0.00        0.00\n",
      "ENSMUST00000114041   0.00   0.00        0.00        0.00\n",
      "ENSMUST00000000028  14.25  42.69       92.63      194.76\n",
      "ENSMUST00000096990  11.66   0.00       68.27       80.70\n",
      "ENSMUST00000115585   8.08   3.31       30.10       68.54\n",
      "[1] \"Gene Lvl, Final Count Table\"\n",
      "                   WT_S1 WT_S2 Smug1_KO_S1 Smug1_KO_S2\n",
      "ENSMUSG00000000001   683   668        1991        1734\n",
      "ENSMUSG00000000003     0     0           0           0\n",
      "ENSMUSG00000000028    34    46         191         354\n",
      "ENSMUSG00000000031     4     2           6          28\n",
      "ENSMUSG00000000037    75    52         218         145\n",
      "ENSMUSG00000000049     7     2           3          32\n"
     ]
    }
   ],
   "source": [
    "# User Input and Parameter 3 ###################################################\n",
    "\n",
    "## Selecte the target samples\n",
    "## - Consider the order of colnames\n",
    "\n",
    "selected.samples <- c(\"WT_S1\",\"WT_S2\",\"Smug1_KO_S1\",\"Smug1_KO_S2\")\n",
    "\n",
    "# Define the design matrix\n",
    "## Design your experiment\n",
    "group <- as.factor(c(\"WT\",\"WT\",\"KO\",\"KO\"))\n",
    "group <- relevel(group, ref=\"WT\")\n",
    "smallestGroupSize <- 2 # for DESeq2\n",
    "\n",
    "DesignMatrix <- data.frame(group = group)\n",
    "##-- `seleted.samples` are index name of design matrix\n",
    "\n",
    "# User Input and Parameter 3 ###################################################\n",
    "\n",
    "rownames.designmatrix <- selected.samples\n",
    "rownames(DesignMatrix) <- rownames.designmatrix\n",
    "DesignMatrix\n",
    "\n",
    "# Processing Part\n",
    "\n",
    "selected.colnames <- c(\"TranscriptIds\",selected.samples)\n",
    "selected.counts.data <- full.counts.data[selected.colnames]\n",
    "# rownames(selected.counts.data) <- c(full.counts.data[\"TranscriptIds\"]),\n",
    "selected.counts.data <- tibble::column_to_rownames(selected.counts.data, \n",
    "                                                   var = \"TranscriptIds\")\n",
    "print(\"Transcript Lvl, Final Count Table\")\n",
    "print(head(selected.counts.data))\n",
    "\n",
    "\n",
    "selected.colnames <- c(\"GeneIds\", selected.samples)\n",
    "selected.counts.data.g <- full.counts.data.g[selected.colnames]\n",
    "selected.counts.data.g <- tibble::column_to_rownames(selected.counts.data.g, \n",
    "                                                     var = \"GeneIds\")\n",
    "print(\"Gene Lvl, Final Count Table\")\n",
    "print(head(selected.counts.data.g))"
   ]
  },
  {
   "cell_type": "markdown",
   "id": "eb7804b4-0130-42a1-a810-6e090b59de0c",
   "metadata": {
    "tags": []
   },
   "source": [
    "# Functions"
   ]
  },
  {
   "cell_type": "markdown",
   "id": "ea020f9b-2796-4cdb-be99-f38c5849ce7b",
   "metadata": {
    "tags": []
   },
   "source": [
    "## Prefiltering"
   ]
  },
  {
   "cell_type": "code",
   "execution_count": 9,
   "id": "00742b37-5243-427e-822d-4613472310e8",
   "metadata": {},
   "outputs": [],
   "source": [
    "Message.Prefiltering <- function(counts.data, filtered.counts.data){\n",
    "    full_num <- dim(counts.data)[1]\n",
    "    remain_num <- dim(filtered.counts.data)[1]\n",
    "    remain_per <- format(round(remain_num/full_num*100, 2), nsmall = 2)\n",
    "    message(remain_num, \"/\", full_num, \" (\",remain_per,\"%), transcripts remained.\\n\")\n",
    "}"
   ]
  },
  {
   "cell_type": "code",
   "execution_count": 10,
   "id": "179e66ec-59f7-4b44-96a5-a6cc18eee1c8",
   "metadata": {},
   "outputs": [],
   "source": [
    "PreFiltering.DESeq2 <- function(counts.data, smallestGroupSize){\n",
    "    keep <- rowSums(counts.data >= 10) >= smallestGroupSize\n",
    "    filtered.counts.data <- counts.data[keep,]\n",
    "    \n",
    "    Message.Prefiltering(counts.data, filtered.counts.data)\n",
    "    \n",
    "    return(filtered.counts.data)\n",
    "}"
   ]
  },
  {
   "cell_type": "code",
   "execution_count": 11,
   "id": "219fe0b8-dc36-4b87-ae97-bab42aa2ce6d",
   "metadata": {},
   "outputs": [],
   "source": [
    "PreFiltering.EdgeR <- function(counts.data, groups){\n",
    "    \n",
    "    dge <- edgeR::DGEList(counts = counts.data, group = groups)\n",
    "    keep <- edgeR::filterByExpr(dge, group)\n",
    "    filtered.counts.data <- counts.data[keep,]\n",
    "    \n",
    "    Message.Prefiltering(counts.data, filtered.counts.data)\n",
    "    \n",
    "    return(filtered.counts.data)\n",
    "}"
   ]
  },
  {
   "cell_type": "markdown",
   "id": "abc77cb2-14a8-4e6f-851a-f648900272a8",
   "metadata": {
    "tags": []
   },
   "source": [
    "## FPKM Function"
   ]
  },
  {
   "cell_type": "code",
   "execution_count": 12,
   "id": "60995c62-bed6-49be-b037-b76be4feb5c3",
   "metadata": {},
   "outputs": [],
   "source": [
    "FPKMTableMaker.DESeq2 <- function(count.data, DesignMatrix, design, eByts){\n",
    "    \n",
    "    tmp.dse <- DESeq2::DESeqDataSetFromMatrix(countData = round(count.data),\n",
    "                                              colData = DesignMatrix,\n",
    "                                              design = design)\n",
    "    tmp.dse@rowRanges <- eByts[match(names(tmp.dse@rowRanges), names(eByts))]\n",
    "    FPKMTable.DESeq2 <- as.data.frame(DESeq2::fpkm(tmp.dse,robust=F))\n",
    "    \n",
    "    return(FPKMTable.DESeq2)\n",
    "}\n",
    "# EXAMPLE\n",
    "# >> example_ <- FPKMTable.DESeq2(selected.counts.data, DesignMatrix, ~group, eByts.trans)\n",
    "# >> head(selected.counts.data, 3)\n",
    "# ENSMUST00000000001\t683\t668\t1991\t1734\n",
    "# ENSMUST00000000003\t0\t0\t0\t0\n",
    "# ENSMUST00000114041\t0\t0\t0\t0\n",
    "# >> head(example_,3)\n",
    "# ENSMUST00000000001\t12.4607\t11.52712\t13.11521\t10.50431\n",
    "# ENSMUST00000000003\t0.0000\t0.00000\t0.00000\t0.00000\n",
    "# ENSMUST00000114041\t0.0000\t0.00000\t0.00000\t0.00000"
   ]
  },
  {
   "cell_type": "markdown",
   "id": "ca40630a-02ea-43b7-be3b-eed0d1524ca4",
   "metadata": {
    "tags": []
   },
   "source": [
    "## DE Calculation"
   ]
  },
  {
   "cell_type": "code",
   "execution_count": 13,
   "id": "6329b8d0-594e-462c-9b3b-3c8fc75cd404",
   "metadata": {},
   "outputs": [],
   "source": [
    "DEcalculation.DESeq2 <- function(count.data, DesignMatrix, design, eByts){\n",
    "    \n",
    "    dse <- DESeq2::DESeqDataSetFromMatrix(countData = round(count.data),\n",
    "                                          colData = DesignMatrix,\n",
    "                                          design = design)\n",
    "    dse <- DESeq2::DESeq(dse)\n",
    "    res <- DESeq2::results(dse, independentFiltering = FALSE)\n",
    "    \n",
    "    # DataFrame Handling\n",
    "    DE.DESeq2 <- as.data.frame(res)\n",
    "    selected.DE.DESeq2 <- DE.DESeq2[c(\"log2FoldChange\", \"pvalue\", \"padj\")]\n",
    "    colnames(selected.DE.DESeq2) <- c(\"log2FC_DESeq2\", \"Pvalue_DESeq2\", \"Padj_DESeq2\")\n",
    "\n",
    "    # Fill NA\n",
    "    ##-- log2FC NA -> 0\n",
    "    ##-- Pvalue NA -> 1\n",
    "    ##-- Adjust Pvalue NA -> 1\n",
    "    selected.DE.DESeq2$log2FC_DESeq2[is.na(selected.DE.DESeq2$log2FC_DESeq2)] <- 0\n",
    "    selected.DE.DESeq2$Pvalue_DESeq2[is.na(selected.DE.DESeq2$Pvalue_DESeq2)] <- 1\n",
    "    selected.DE.DESeq2$Padj_DESeq2[is.na(selected.DE.DESeq2$Padj_DESeq2)] <- 1\n",
    "    \n",
    "    return(selected.DE.DESeq2)\n",
    "}\n",
    "\n",
    "# Example \n",
    "# res <- DEcalculation.DESeq2(selected.counts.data, DesignMatrix, ~group, eByts)\n",
    "# head(res)"
   ]
  },
  {
   "cell_type": "code",
   "execution_count": 14,
   "id": "5dd2c31e-cda2-4e27-98f5-8dd74f4a833a",
   "metadata": {},
   "outputs": [],
   "source": [
    "DEcalculation.EdgeR.GLMLRT <- function(count.data, DesignMatrix, design, group, prior.df = 10){\n",
    "    \n",
    "    # Design matrix for EdgeR\n",
    "    designmatrix_ <- stats::model.matrix(design)\n",
    "    de <- edgeR::DGEList(counts = count.data, group = group)\n",
    "    \n",
    "    # calculate Normaliztion Factor\n",
    "    de <- edgeR::calcNormFactors(de)\n",
    "    \n",
    "    # Estimate Dispersion\n",
    "    de <- edgeR::estimateGLMCommonDisp(de, design = designmatrix_)\n",
    "    de <- edgeR::estimateGLMTrendedDisp(de, design = designmatrix_)\n",
    "    de <- edgeR::estimateGLMTagwiseDisp(de, design = designmatrix_, prior.df = 10)\n",
    "    \n",
    "    # GLM FIT, and Likelihood Ratio Test\n",
    "    Fit <- edgeR::glmFit(de, design = designmatrix_)\n",
    "    LRT <- edgeR::glmLRT(Fit)\n",
    "    \n",
    "    DE.EdgeR.GLMLRT <- as.data.frame(LRT$table)\n",
    "    selected.DE.EdgeR.GLMLRT <- DE.EdgeR.GLMLRT[c(\"logFC\", \"PValue\")]\n",
    "    colnames(selected.DE.EdgeR.GLMLRT) <- c(\"log2FC_EdgeRGLM\", \"Pvalue_EdgeRGLM\")\n",
    "    \n",
    "    selected.DE.EdgeR.GLMLRT[\"Padj_EdgeRGLM\"] <- stats::p.adjust(selected.DE.EdgeR.GLMLRT$Pvalue_EdgeRGLM, \"BH\")\n",
    "\n",
    "    # Fill NA\n",
    "    ##-- log2FC NA -> 0\n",
    "    ##-- Pvalue NA -> 1\n",
    "    ##-- Adjust Pvalue NA -> 1\n",
    "    selected.DE.EdgeR.GLMLRT$log2FC_EdgeRGLM[is.na(selected.DE.EdgeR.GLMLRT$log2FC_EdgeR.GLMLRT)] <- 0\n",
    "    selected.DE.EdgeR.GLMLRT$Pvalue_EdgeRGLM[is.na(selected.DE.EdgeR.GLMLRT$Pvalue_EdgeR.GLMLRT)] <- 1\n",
    "    selected.DE.EdgeR.GLMLRT$Padj_EdgeRGLM[is.na(selected.DE.EdgeR.GLMLRT$Padj_EdgeR.GLMLRT)] <- 1\n",
    "\n",
    "    return(selected.DE.EdgeR.GLMLRT)\n",
    "}\n",
    "\n",
    "# Example\n",
    "# res <- DEcalculation.EdgeR.GLMLRT(selected.counts.data, DesignMatrix, ~group, group)\n",
    "# head(res)"
   ]
  },
  {
   "cell_type": "markdown",
   "id": "134a15a4-33b3-40f6-b81d-468693f98412",
   "metadata": {
    "tags": []
   },
   "source": [
    "## MasterTable Maker"
   ]
  },
  {
   "cell_type": "code",
   "execution_count": 99,
   "id": "8c376891-bb4a-498b-b6fa-982efbe99546",
   "metadata": {},
   "outputs": [],
   "source": [
    "MakeFPKMTable.trans <- function(FPKM.df, annot_trans){\n",
    "    \n",
    "    Annot.df <- annot_trans[c(\"transcript_id\",\"transcript_name\",\"transcript_biotype\",\n",
    "                              \"seqnames\",\"start\",\"end\",\"strand\",\n",
    "                              \"gene_id\",\"gene_name\",\"gene_name\")]\n",
    "    Annot.df <- tibble::column_to_rownames(Annot.df, var = \"transcript_id\")\n",
    "    colnames(Annot.df) <- c(\"TransName\",\"TransBioType\",\n",
    "                            \"Chr\",\"Start\",\"End\",\"Strand\",\n",
    "                            \"GeneIDs\",\"GeneNames\",\"GeneBioType\")\n",
    "    \n",
    "    Result.df <- base::merge(Annot.df, FPKM.df,\n",
    "                            by.x = 0, by.y = 0,\n",
    "                            all.x = TRUE, all.y = TRUE)\n",
    "    Result.df <- tibble::column_to_rownames(Result.df, var = \"Row.names\")\n",
    "    # colnames(Result.df)[1] <- \"TransIDs\"\n",
    "    return(Result.df)\n",
    "}\n",
    "# head(MakeFPKMTable.trans(FPKM.DESeq2.trans, annot_trans))"
   ]
  },
  {
   "cell_type": "code",
   "execution_count": 100,
   "id": "d25031f6-ef7e-46eb-9456-18145536d2db",
   "metadata": {},
   "outputs": [],
   "source": [
    "MakeFPKMTable.genes <- function(FPKM.df, annot_genes){\n",
    "    \n",
    "    Annot.df <- annot_genes[c(\"gene_id\",\"gene_name\",\"gene_biotype\",\n",
    "                              \"seqnames\",\"start\",\"end\",\"strand\")]\n",
    "    Annot.df <- tibble::column_to_rownames(Annot.df, var = \"gene_id\")\n",
    "    colnames(Annot.df) <- c(\"GeneNames\",\"GeneBioType\",\n",
    "                            \"Chr\",\"Start\",\"End\",\"Strand\")\n",
    "    \n",
    "    Result.df <- base::merge(Annot.df, FPKM.df,\n",
    "                            by.x = 0, by.y = 0,\n",
    "                            all.x = TRUE, all.y = TRUE)\n",
    "    Result.df <- tibble::column_to_rownames(Result.df, var = \"Row.names\")\n",
    "    # colnames(Result.df)[1] <- \"GenesIDs\"\n",
    "    return(Result.df)\n",
    "}\n",
    "# head(MakeFPKMTable.genes(FPKM.DESeq2.genes, annot_genes))"
   ]
  },
  {
   "cell_type": "code",
   "execution_count": 101,
   "id": "2a087da8-866e-4739-804d-c3a827a468a1",
   "metadata": {},
   "outputs": [],
   "source": [
    "MakeMasterTable.trans <- function(FPKM.df, annot_trans, STAT.df){\n",
    "    \n",
    "    FPKMTable.df <- MakeFPKMTable.trans(FPKM.df, annot_trans)\n",
    "    Result.df <- base::merge(FPKMTable.df, STAT.df,\n",
    "                             by.x = 0, by.y = 0,\n",
    "                             all.x = TRUE, all.y = TRUE)\n",
    "    # Result.df <- tibble::column_to_rownames(Result.df, var = \"Row.names\")\n",
    "    colnames(Result.df)[1] <- \"TransIDs\"\n",
    "    return(Result.df)\n",
    "}\n",
    "# head(MakeMasterTable.trans(FPKM.DESeq2.trans, annot_trans, DERes.DESeq2.trans))"
   ]
  },
  {
   "cell_type": "code",
   "execution_count": 102,
   "id": "a491fd64-9e6b-4271-8218-14fb52b72cad",
   "metadata": {},
   "outputs": [],
   "source": [
    "MakeMasterTable.genes <- function(FPKM.df, annot_genes, STAT.df){\n",
    "    \n",
    "    FPKMTable.df <- MakeFPKMTable.genes(FPKM.df, annot_genes)\n",
    "    Result.df <- base::merge(FPKMTable.df, STAT.df,\n",
    "                             by.x = 0, by.y = 0,\n",
    "                             all.x = TRUE, all.y = TRUE)\n",
    "    # Result.df <- tibble::column_to_rownames(Result.df, var = \"Row.names\")\n",
    "    colnames(Result.df)[1] <- \"GenesIDs\"\n",
    "    return(Result.df)\n",
    "}\n",
    "# head(MakeMasterTable.genes(FPKM.DESeq2.genes, annot_genes, DERes.EdgeR.GLMLRT.genes))"
   ]
  },
  {
   "cell_type": "markdown",
   "id": "b2c711b2-251f-426c-a86e-8ee99fbbceeb",
   "metadata": {},
   "source": [
    "# Calculation Part - Transcript Level"
   ]
  },
  {
   "cell_type": "code",
   "execution_count": 103,
   "id": "e54b0498-5207-4e3c-b518-70db1d2f8748",
   "metadata": {},
   "outputs": [
    {
     "name": "stderr",
     "output_type": "stream",
     "text": [
      "51213/142699 (35.89%), transcripts remained.\n",
      "\n",
      "\n",
      "49705/142699 (34.83%), transcripts remained.\n",
      "\n",
      "\n"
     ]
    }
   ],
   "source": [
    "## Common Factor \n",
    "\n",
    "count <- selected.counts.data\n",
    "count.filter.edgeR <- PreFiltering.EdgeR(selected.counts.data, group)\n",
    "count.filter.DESeq2 <- PreFiltering.DESeq2(selected.counts.data, smallestGroupSize)"
   ]
  },
  {
   "cell_type": "code",
   "execution_count": 104,
   "id": "c9a8ea64-b6f9-40b8-905f-e4328239a8c7",
   "metadata": {},
   "outputs": [
    {
     "name": "stderr",
     "output_type": "stream",
     "text": [
      "converting counts to integer mode\n",
      "\n",
      "converting counts to integer mode\n",
      "\n",
      "converting counts to integer mode\n",
      "\n"
     ]
    }
   ],
   "source": [
    "## FPKM Table\n",
    "fpkm <- FPKMTableMaker.DESeq2(count, DesignMatrix, ~group, eByts.trans)\n",
    "fpkm.edgeR  <- FPKMTableMaker.DESeq2(count.filter.edgeR, DesignMatrix, ~group, eByts.trans)\n",
    "fpkm.DESeq2 <- FPKMTableMaker.DESeq2(count.filter.DESeq2, DesignMatrix, ~group, eByts.trans)"
   ]
  },
  {
   "cell_type": "code",
   "execution_count": 105,
   "id": "e4b5866d-fe34-49a8-8141-62a30fec39e2",
   "metadata": {},
   "outputs": [],
   "source": [
    "fpkmtable <- MakeFPKMTable.trans(fpkm, annot_trans)"
   ]
  },
  {
   "cell_type": "code",
   "execution_count": 106,
   "id": "48fa090e-3150-4dc5-a056-1119d64d89b9",
   "metadata": {},
   "outputs": [],
   "source": [
    "# Not recommended!\n",
    "# fpkmtable.edgeR <- MakeFPKMTable.trans(fpkm.edgeR, annot_trans)"
   ]
  },
  {
   "cell_type": "code",
   "execution_count": 107,
   "id": "d9bd0d85-7c07-43d0-ae0f-3a5faa5fd106",
   "metadata": {},
   "outputs": [],
   "source": [
    "# Not recommended!\n",
    "# fpkmtable.DESeq2 <- MakeFPKMTable.trans(fpkm.DESeq2, annot_trans)"
   ]
  },
  {
   "cell_type": "code",
   "execution_count": 108,
   "id": "2e5c709a-7e33-424c-8795-0a55e63078ec",
   "metadata": {},
   "outputs": [
    {
     "name": "stderr",
     "output_type": "stream",
     "text": [
      "converting counts to integer mode\n",
      "\n",
      "estimating size factors\n",
      "\n",
      "estimating dispersions\n",
      "\n",
      "gene-wise dispersion estimates\n",
      "\n",
      "mean-dispersion relationship\n",
      "\n",
      "-- note: fitType='parametric', but the dispersion trend was not well captured by the\n",
      "   function: y = a/x + b, and a local regression fit was automatically substituted.\n",
      "   specify fitType='local' or 'mean' to avoid this message next time.\n",
      "\n",
      "final dispersion estimates\n",
      "\n",
      "fitting model and testing\n",
      "\n"
     ]
    }
   ],
   "source": [
    "stat.EdgeR.GLMLRT <- DEcalculation.EdgeR.GLMLRT(count.filter.edgeR, DesignMatrix, ~group, group)\n",
    "stat.DESeq2 <- DEcalculation.DESeq2(count.filter.DESeq2, DesignMatrix, ~group, eByts.trans)"
   ]
  },
  {
   "cell_type": "code",
   "execution_count": 109,
   "id": "8b6acc05-226a-4ad0-a5ad-ed3bcae55bad",
   "metadata": {},
   "outputs": [],
   "source": [
    "mastertable.EdgeR.GLMLRT <- MakeMasterTable.trans(fpkm.edgeR, annot_trans, stat.EdgeR.GLMLRT)\n",
    "mastertable.DESeq2 <- MakeMasterTable.trans(fpkm.DESeq2, annot_trans, stat.DESeq2)"
   ]
  },
  {
   "cell_type": "code",
   "execution_count": 113,
   "id": "c981629c-b8a9-4abf-bc3d-b56d320b2ffa",
   "metadata": {},
   "outputs": [],
   "source": [
    "# tibble::column_to_rownames(annot_trans, var = \"transcript_id\")\n",
    "fpkmtable.processed <- tibble::rownames_to_column(fpkmtable, var = \"TransIDs\")\n",
    "write.csv(fpkmtable.processed, file=paste0(output.dir.route,\"FPKMTable_DESeq2_Raw.csv\"))\n",
    "write.csv(mastertable.EdgeR.GLMLRT, file=paste0(output.dir.route,\"MasterTable_EdgeR_GLMLRT_Raw.csv\"))\n",
    "write.csv(mastertable.DESeq2, file=paste0(output.dir.route,\"MasterTable_DESeq2_Default_Raw.csv\"))"
   ]
  },
  {
   "cell_type": "markdown",
   "id": "652223f6-a5bb-4429-9604-7c31fd89911c",
   "metadata": {},
   "source": [
    "# Calculation Part - Gene Level"
   ]
  },
  {
   "cell_type": "code",
   "execution_count": 114,
   "id": "b7f426e6-2a4c-4d8f-b1b6-2777cdd65754",
   "metadata": {},
   "outputs": [
    {
     "name": "stderr",
     "output_type": "stream",
     "text": [
      "17401/55487 (31.36%), transcripts remained.\n",
      "\n",
      "\n",
      "17357/55487 (31.28%), transcripts remained.\n",
      "\n",
      "\n"
     ]
    }
   ],
   "source": [
    "## Common Factor \n",
    "\n",
    "count.g <- selected.counts.data.g\n",
    "count.filter.edgeR.g <- PreFiltering.EdgeR(selected.counts.data.g, group)\n",
    "count.filter.DESeq2.g <- PreFiltering.DESeq2(selected.counts.data.g, smallestGroupSize)"
   ]
  },
  {
   "cell_type": "code",
   "execution_count": 115,
   "id": "115de256-504e-4efe-a012-aec3381e2c63",
   "metadata": {},
   "outputs": [
    {
     "name": "stderr",
     "output_type": "stream",
     "text": [
      "converting counts to integer mode\n",
      "\n",
      "converting counts to integer mode\n",
      "\n",
      "converting counts to integer mode\n",
      "\n"
     ]
    }
   ],
   "source": [
    "## FPKM Table\n",
    "fpkm.g <- FPKMTableMaker.DESeq2(count.g, DesignMatrix, ~group, eByts.genes)\n",
    "fpkm.edgeR.g  <- FPKMTableMaker.DESeq2(count.filter.edgeR.g, DesignMatrix, ~group, eByts.genes)\n",
    "fpkm.DESeq2.g <- FPKMTableMaker.DESeq2(count.filter.DESeq2.g, DesignMatrix, ~group, eByts.genes)"
   ]
  },
  {
   "cell_type": "code",
   "execution_count": 121,
   "id": "815c09f1-9cbd-4c45-8945-ee936e7102db",
   "metadata": {},
   "outputs": [],
   "source": [
    "fpkmtable.g <- MakeFPKMTable.genes(fpkm.g, annot_genes)"
   ]
  },
  {
   "cell_type": "code",
   "execution_count": 117,
   "id": "997ad195-8909-4994-83e6-08e4a2a90f33",
   "metadata": {},
   "outputs": [],
   "source": [
    "# Not recommended!\n",
    "# fpkmtable.edgeR <- MakeFPKMTable.trans(fpkm.edgeR, annot_trans)"
   ]
  },
  {
   "cell_type": "code",
   "execution_count": 118,
   "id": "53619f8d-04f1-4ce7-817f-f9d1798fab50",
   "metadata": {},
   "outputs": [],
   "source": [
    "# Not recommended!\n",
    "# fpkmtable.DESeq2 <- MakeFPKMTable.trans(fpkm.DESeq2, annot_trans)"
   ]
  },
  {
   "cell_type": "code",
   "execution_count": 119,
   "id": "70b5f5b4-3ff8-4037-adb7-e94759778d39",
   "metadata": {},
   "outputs": [
    {
     "name": "stderr",
     "output_type": "stream",
     "text": [
      "converting counts to integer mode\n",
      "\n",
      "estimating size factors\n",
      "\n",
      "estimating dispersions\n",
      "\n",
      "gene-wise dispersion estimates\n",
      "\n",
      "mean-dispersion relationship\n",
      "\n",
      "final dispersion estimates\n",
      "\n",
      "fitting model and testing\n",
      "\n"
     ]
    }
   ],
   "source": [
    "stat.EdgeR.GLMLRT.g <- DEcalculation.EdgeR.GLMLRT(count.filter.edgeR.g, DesignMatrix, ~group, group)\n",
    "stat.DESeq2.g <- DEcalculation.DESeq2(count.filter.DESeq2.g, DesignMatrix, ~group, eByts.genes)"
   ]
  },
  {
   "cell_type": "code",
   "execution_count": 120,
   "id": "87da77b8-462e-40cd-b569-7ede8767444f",
   "metadata": {},
   "outputs": [],
   "source": [
    "mastertable.EdgeR.GLMLRT.g <- MakeMasterTable.genes(fpkm.edgeR.g, annot_genes, stat.EdgeR.GLMLRT.g)\n",
    "mastertable.DESeq2.g <- MakeMasterTable.genes(fpkm.DESeq2.g, annot_genes, stat.DESeq2.g)"
   ]
  },
  {
   "cell_type": "code",
   "execution_count": 123,
   "id": "abb0aa88-f8c5-4ce0-8691-c44dde99c0f6",
   "metadata": {},
   "outputs": [],
   "source": [
    "fpkmtable.processed.g <- tibble::rownames_to_column(fpkmtable.g, var = \"GenesIDs\")\n",
    "write.csv(fpkmtable.processed.g, file=paste0(output.dir.route,\"FPKMTable_DESeq2_Raw_Gene.csv\"))\n",
    "write.csv(mastertable.EdgeR.GLMLRT.g, file=paste0(output.dir.route,\"MasterTable_EdgeR_GLMLRT_Raw_Gene.csv\"))\n",
    "write.csv(mastertable.DESeq2.g, file=paste0(output.dir.route,\"MasterTable_DESeq2_Default_Raw_Gene.csv\"))"
   ]
  },
  {
   "cell_type": "markdown",
   "id": "d3649470-87a7-4ab2-9028-a3264cff4fd2",
   "metadata": {
    "jp-MarkdownHeadingCollapsed": true,
    "tags": []
   },
   "source": [
    "# EOC"
   ]
  },
  {
   "cell_type": "code",
   "execution_count": 365,
   "id": "8603a524-afc5-4762-90b9-d15a4383b7f9",
   "metadata": {},
   "outputs": [],
   "source": [
    "# Foot note\n",
    "\n",
    "#-- `keys` AnnotationDb-objects {AnnotationDbi}\n",
    "#-- the `keys` to select records for from the database. \n",
    "##-- expected output\n",
    "##-- >> keys(txdb, keytype = \"TXNAME\")[1:3]\n",
    "##--'ENSMUST00000193812''ENSMUST00000082908''ENSMUST00000192857'\n",
    "\n",
    "# keys.TXNAME <- AnnotationDbi::keys(txdb, keytype=\"TXNAME\")\n",
    "\n",
    "#-- `select` AnnotationDb-objects {AnnotationDbi}\n",
    "#-- `select` will retrieve the data as a data.frame based on \n",
    "#-- parameters for selected keys columns and `keytype` arguments.\n",
    "#-- Matching Transcripts ID and Gened ID\n",
    "##-- expected output\n",
    "##-- >> AnnotationDbi::select(txdb, keys = k.TXNAME, columns=c(\"GENEID\"), keytype=\"TXNAME\")\n",
    "##-- A data.frame: 142699 × 2 TXNAME\tGENEID\n",
    "##--        <chr>           \t<chr>\n",
    "##-- ENSMUST00000193812\tENSMUSG00000102693\n",
    "##-- ENSMUST00000082908\tENSMUSG00000064842\n",
    "##-- ENSMUST00000192857\tENSMUSG00000102851\n",
    "\n",
    "# tx_map <- AnnotationDbi::select(txdb, \n",
    "#                                 keys = keys.TXNAME, \n",
    "#                                 columns=c(\"GENEID\"), keytype=\"TXNAME\")"
   ]
  },
  {
   "cell_type": "code",
   "execution_count": null,
   "id": "9213f13c-297d-43c4-a144-7fc0a983f7f4",
   "metadata": {},
   "outputs": [],
   "source": []
  }
 ],
 "metadata": {
  "kernelspec": {
   "display_name": "R",
   "language": "R",
   "name": "ir"
  },
  "language_info": {
   "codemirror_mode": "r",
   "file_extension": ".r",
   "mimetype": "text/x-r-source",
   "name": "R",
   "pygments_lexer": "r",
   "version": "4.1.0"
  }
 },
 "nbformat": 4,
 "nbformat_minor": 5
}
