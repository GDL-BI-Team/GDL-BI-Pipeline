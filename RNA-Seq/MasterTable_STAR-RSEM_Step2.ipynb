{
 "cells": [
  {
   "cell_type": "code",
   "execution_count": 2,
   "id": "183ff2de-4eef-4ef5-8856-dac2515a1494",
   "metadata": {},
   "outputs": [],
   "source": [
    "# +-----------------------------------------------------------------------------+\n",
    "# | MasterTable Script Step 2, Written by Python\n",
    "# | Post-Filtering : over 1 at least 1 sample\n",
    "# | Post-Filtering Method 1 : Standard deviation\n",
    "# | Post-Filtering Mehotd 2 : VMR\n",
    "# | maintainer: jinhokim.07@cau.ac.kr\n",
    "# | Last Update: 24.02.20\n",
    "# +-----------------------------------------------------------------------------+\n",
    "\n",
    "# +---System Library Import-----------------------------------------------------+\n",
    "import os, sys\n",
    "# +---Basic Library Import------------------------------------------------------+\n",
    "import numpy as np\n",
    "import pandas as pd\n",
    "# +---Graph Library Import------------------------------------------------------+\n",
    "import matplotlib.pyplot as plt\n",
    "import seaborn as sns"
   ]
  },
  {
   "cell_type": "markdown",
   "id": "4784362a-c7d4-4ba9-b3ab-a64c2bb0b17c",
   "metadata": {
    "jp-MarkdownHeadingCollapsed": true,
    "tags": []
   },
   "source": [
    "# Function"
   ]
  },
  {
   "cell_type": "code",
   "execution_count": 106,
   "id": "00a59ee9-f702-4063-bb04-9adf0fa8597c",
   "metadata": {},
   "outputs": [],
   "source": [
    "def TableLoad(route):\n",
    "    Data = pd.read_csv(route)\n",
    "    try: # Unnamed remove\n",
    "        Data = Data.drop([\"Unnamed: 0\"], axis = 1)\n",
    "    except:\n",
    "        pass\n",
    "    # Data Drop -> Prefiltered Data (MasterTable)\n",
    "    Data_DropNA = Data.dropna().copy().reset_index(drop=True)\n",
    "    # Data_DropNA.head()\n",
    "    return Data_DropNA"
   ]
  },
  {
   "cell_type": "code",
   "execution_count": 107,
   "id": "80317d63-a4f3-412e-a063-27865d5903dc",
   "metadata": {},
   "outputs": [],
   "source": [
    "def GroupInfo_Checker(Data, group_info):\n",
    "    flag = True\n",
    "    for group in group_info:\n",
    "        len_group = len(group)\n",
    "        \n",
    "        try:\n",
    "            len_Data  = Data.loc[:,group].shape[1]\n",
    "            if(len_group != len_Data):\n",
    "                print(group, \"Total length of Index is wrong\")\n",
    "                flag = False\n",
    "               \n",
    "        except KeyError:\n",
    "            print(\"Index is Wrong\", group)\n",
    "            flag = False\n",
    "        \n",
    "    if (flag): print(\"All columns matched\")\n",
    "    return None"
   ]
  },
  {
   "cell_type": "code",
   "execution_count": 108,
   "id": "dd129327-b333-4cf2-aa25-f9290f10b883",
   "metadata": {},
   "outputs": [],
   "source": [
    "def FPKMoverx_atleastonesample(Data, groupinfo_f, thres = 1):\n",
    "    maxfpkm = Data.loc[:,groupinfo_f].max(axis = 1)\n",
    "    Dataoverx = Data.loc[maxfpkm >= thres].copy().reset_index(drop=True)\n",
    "    return Dataoverx"
   ]
  },
  {
   "cell_type": "code",
   "execution_count": 109,
   "id": "2e88db62-1423-4094-af29-c2941df31df6",
   "metadata": {},
   "outputs": [],
   "source": [
    "def FilteringCondition(Data, groupinfo, groupname):\n",
    "    \n",
    "    Data_Added = Data.copy()\n",
    "    if (len(group_info) != len(group_name)):\n",
    "        print(\"Check your `group_info` and `group_name`\")\n",
    "        print(\"Length of these list are not matched!\")\n",
    "        \n",
    "    for g_list, g_name in zip(group_info, group_name):\n",
    "        mean_ = Data.loc[:, g_list].mean(axis = 1)\n",
    "        var_  = Data.loc[:, g_list].var(axis = 1)\n",
    "        std_  = Data.loc[:, g_list].std(axis = 1)\n",
    "        sigma_ = std_/mean_ * 100\n",
    "        vmr_ = var_/mean_\n",
    "        Data_Added[g_name+\"_std_%\"] = sigma_\n",
    "        Data_Added[g_name+\"_VMR\"] = vmr_\n",
    "    \n",
    "    # print(Data_Added.head())\n",
    "    \n",
    "    return Data_Added\n",
    "\n",
    "# FilteringCondition(Data, group_info, group_name)"
   ]
  },
  {
   "cell_type": "markdown",
   "id": "85e0d07f-bc3d-4256-92f6-115e250895c4",
   "metadata": {},
   "source": [
    "# Calculation Part"
   ]
  },
  {
   "cell_type": "code",
   "execution_count": 119,
   "id": "76ded8d7-1754-4e19-ac9e-47a7490baad0",
   "metadata": {},
   "outputs": [
    {
     "name": "stdout",
     "output_type": "stream",
     "text": [
      "./300_MasterTable/MasterTable_DESeq2_Default_Raw.csv\n",
      "./300_MasterTable/MasterTable_DESeq2_Default_Data.xlsx\n",
      "Index(['TransIDs', 'TransName', 'TransBioType', 'Chr', 'Start', 'End',\n",
      "       'Strand', 'GeneIDs', 'GeneNames', 'GeneBioType', 'WT_S1', 'WT_S2',\n",
      "       'Smug1_KO_S1', 'Smug1_KO_S2', 'log2FC_DESeq2', 'Pvalue_DESeq2',\n",
      "       'Padj_DESeq2'],\n",
      "      dtype='object')\n"
     ]
    }
   ],
   "source": [
    "route = \"./300_MasterTable/MasterTable_DESeq2_Default_Raw.csv\"\n",
    "\n",
    "# For Transcript\n",
    "res_route = route.replace(\"_Raw.csv\",\"_Data.xlsx\")\n",
    "# For Gene\n",
    "# res_route = route.replace(\"_Raw_Gene.csv\",\"_Data_Gene.xlsx\")\n",
    "print(route)\n",
    "print(res_route)\n",
    "\n",
    "# Table Load\n",
    "Data = TableLoad(route)\n",
    "print(Data.columns)"
   ]
  },
  {
   "cell_type": "code",
   "execution_count": 111,
   "id": "7e520d7c-41aa-4e68-9963-fbe6c837761e",
   "metadata": {},
   "outputs": [
    {
     "name": "stdout",
     "output_type": "stream",
     "text": [
      "All columns matched\n"
     ]
    }
   ],
   "source": [
    "# Group Infomation : 2D array\n",
    "# refer to print(Data.column)\n",
    "group_info = [[\"WT_S1\",\"WT_S2\"], [\"Smug1_KO_S1\", \"Smug1_KO_S2\"]]\n",
    "group_name = [\"WT\",\"Smug1_KO\"]\n",
    "group_info_flatten = [y for x in group_info for y in x]\n",
    "GroupInfo_Checker(Data, group_info)"
   ]
  },
  {
   "cell_type": "code",
   "execution_count": 116,
   "id": "849850d6-c3b1-4724-8563-22a8ecf30c75",
   "metadata": {},
   "outputs": [],
   "source": [
    "thres = 1\n",
    "Data_Filtering = FilteringCondition(Data, group_info, group_name)\n",
    "Data_Filtering_FPKMoverX = FPKMoverx_atleastonesample(Data_Filtering, group_info_flatten, thres)"
   ]
  },
  {
   "cell_type": "code",
   "execution_count": 117,
   "id": "00d46a2e-ab84-4ef9-929f-cad13998b6c1",
   "metadata": {},
   "outputs": [
    {
     "name": "stdout",
     "output_type": "stream",
     "text": [
      "(49705, 17) (49705, 21) (39744, 21)\n"
     ]
    }
   ],
   "source": [
    "print(Data.shape, Data_Filtering.shape, Data_Filtering_FPKMoverX.shape)"
   ]
  },
  {
   "cell_type": "code",
   "execution_count": 120,
   "id": "ececc751-7bd7-4cfd-b0db-0fda91a28818",
   "metadata": {},
   "outputs": [],
   "source": [
    "BI_res_route = res_route.replace(\"_Data.xlsx\",\"_Data_ov\"+str(thres)+\"_BI.csv\")\n",
    "Data_Filtering_FPKMoverX.to_csv(BI_res_route, index= False)"
   ]
  },
  {
   "cell_type": "code",
   "execution_count": 121,
   "id": "324e7e15-d07e-498f-b637-75085489245f",
   "metadata": {},
   "outputs": [],
   "source": [
    "with pd.ExcelWriter(res_route) as writer:\n",
    "    Data_Filtering.to_excel(writer, sheet_name=\"Raw\", index = False)\n",
    "    Data_Filtering.to_excel(writer, sheet_name=\"FPKMover\"+str(thres), index = False)"
   ]
  },
  {
   "cell_type": "code",
   "execution_count": null,
   "id": "bccb10e6-9b17-4bd3-ad85-aae0e9ccd628",
   "metadata": {},
   "outputs": [],
   "source": []
  }
 ],
 "metadata": {
  "kernelspec": {
   "display_name": "Python 3 (ipykernel)",
   "language": "python",
   "name": "python3"
  },
  "language_info": {
   "codemirror_mode": {
    "name": "ipython",
    "version": 3
   },
   "file_extension": ".py",
   "mimetype": "text/x-python",
   "name": "python",
   "nbconvert_exporter": "python",
   "pygments_lexer": "ipython3",
   "version": "3.8.12"
  }
 },
 "nbformat": 4,
 "nbformat_minor": 5
}
